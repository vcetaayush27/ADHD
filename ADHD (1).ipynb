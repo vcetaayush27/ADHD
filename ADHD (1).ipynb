{
  "cells": [
    {
      "cell_type": "code",
      "source": [
        "from google.colab import drive\n",
        "drive.mount('/content/drive')"
      ],
      "metadata": {
        "colab": {
          "base_uri": "https://localhost:8080/"
        },
        "id": "-tITxgu7_Wae",
        "outputId": "7335943c-6760-4413-b742-f455861ac47a"
      },
      "id": "-tITxgu7_Wae",
      "execution_count": 4,
      "outputs": [
        {
          "output_type": "stream",
          "name": "stdout",
          "text": [
            "Drive already mounted at /content/drive; to attempt to forcibly remount, call drive.mount(\"/content/drive\", force_remount=True).\n"
          ]
        }
      ]
    },
    {
      "cell_type": "code",
      "execution_count": 5,
      "id": "3a001d60-d688-47e9-a14e-86eef63d6852",
      "metadata": {
        "id": "3a001d60-d688-47e9-a14e-86eef63d6852"
      },
      "outputs": [],
      "source": [
        "import os\n",
        "import csv\n",
        "import statistics"
      ]
    },
    {
      "cell_type": "code",
      "source": [
        "folder_name = \"/content/drive/MyDrive/Colab Notebooks/ADHD/CSV_Data/Having_ADHD_Data\"\n",
        "\n",
        "output_file = \"/content/drive/MyDrive/Colab Notebooks/ADHD/CSV_Data/ADHD_Statistics.csv\"\n",
        "\n",
        "with open(output_file, 'w', newline='') as out_csv:\n",
        "    writer = csv.writer(out_csv)\n",
        "\n",
        "    header = [\"File Name\"]\n",
        "    for col in range(1, 20):\n",
        "        header += [f\"Col_{col}_Mean\", f\"Col_{col}_Median\", f\"Col_{col}_Mode\"]\n",
        "    writer.writerow(header)\n",
        "\n",
        "    list_files = os.listdir(folder_name)\n",
        "    for file_name in list_files:\n",
        "        row_data = [file_name]\n",
        "\n",
        "        with open(os.path.join(folder_name, file_name), 'r') as file:\n",
        "            reader = csv.reader(file)\n",
        "\n",
        "            for col in range(1, 20):\n",
        "                col_data = []\n",
        "                file.seek(0)\n",
        "\n",
        "                for i, row in enumerate(reader):\n",
        "                    if i == 0:\n",
        "                        continue\n",
        "                    col_data.append(int(float(row[col])))\n",
        "\n",
        "                mean = statistics.mean(col_data)\n",
        "                median = statistics.median(col_data)\n",
        "                mode = statistics.mode(col_data)\n",
        "\n",
        "                row_data += [mean, median, mode]\n",
        "\n",
        "        writer.writerow(row_data)\n",
        "\n",
        "print(f\"Statistics saved to {output_file}.\")\n"
      ],
      "metadata": {
        "colab": {
          "base_uri": "https://localhost:8080/"
        },
        "id": "GbSE1LxROGk0",
        "outputId": "86bfea0e-38b8-4a55-82e9-0fee75edf235"
      },
      "id": "GbSE1LxROGk0",
      "execution_count": 8,
      "outputs": [
        {
          "output_type": "stream",
          "name": "stdout",
          "text": [
            "Statistics saved to /content/drive/MyDrive/Colab Notebooks/ADHD/CSV_Data/ADHD_Statistics.csv.\n"
          ]
        }
      ]
    }
  ],
  "metadata": {
    "kernelspec": {
      "display_name": "Python 3",
      "name": "python3"
    },
    "language_info": {
      "codemirror_mode": {
        "name": "ipython",
        "version": 3
      },
      "file_extension": ".py",
      "mimetype": "text/x-python",
      "name": "python",
      "nbconvert_exporter": "python",
      "pygments_lexer": "ipython3",
      "version": "3.11.5"
    },
    "colab": {
      "provenance": [],
      "gpuType": "T4"
    },
    "accelerator": "GPU"
  },
  "nbformat": 4,
  "nbformat_minor": 5
}