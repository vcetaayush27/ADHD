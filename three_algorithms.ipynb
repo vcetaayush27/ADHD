{
  "nbformat": 4,
  "nbformat_minor": 0,
  "metadata": {
    "colab": {
      "provenance": []
    },
    "kernelspec": {
      "name": "python3",
      "display_name": "Python 3"
    },
    "language_info": {
      "name": "python"
    }
  },
  "cells": [
    {
      "cell_type": "code",
      "execution_count": 79,
      "metadata": {
        "id": "u3Amnd7DDeI9"
      },
      "outputs": [],
      "source": [
        "# Step 1: uploading and data manipulation\n",
        "import warnings\n",
        "warnings.filterwarnings(\"ignore\")\n",
        "import pandas as pd\n",
        "import numpy as np\n",
        "import tensorflow as tf\n",
        "import pandas as pd\n",
        "import numpy as np\n",
        "import matplotlib.pyplot as plt\n",
        "import seaborn as sns\n",
        "import keras\n",
        "#from tensorflow.keras.models import Sequential\n",
        "#from tensorflow.keras.layers import Dense,Activation,Dropout\n",
        "from sklearn.model_selection import train_test_split\n",
        "from sklearn.metrics import mean_absolute_error,mean_squared_error\n",
        "from sklearn.metrics import accuracy_score\n"
      ]
    },
    {
      "cell_type": "code",
      "source": [
        "data=pd.read_csv(\"/content/ADHD Data Set (1).csv\")\n",
        "data.head(2)"
      ],
      "metadata": {
        "colab": {
          "base_uri": "https://localhost:8080/",
          "height": 161
        },
        "id": "k2oiISB_DhsO",
        "outputId": "e984520b-294d-45d0-9c2a-c21d99e15d0f"
      },
      "execution_count": 80,
      "outputs": [
        {
          "output_type": "execute_result",
          "data": {
            "text/plain": [
              "      mean_FZ  median_FZ  mode_FZ     mean_CZ  median_CZ  mode_CZ     mean_PZ  \\\n",
              "0  146.172399        156      191  146.371924        156      156  151.967072   \n",
              "1  146.459059        121      121  145.589454        121      121  153.285787   \n",
              "\n",
              "   median_PZ  mode_PZ     mean_C3  ...     mean_T6  media_T6n  mode_T6  \\\n",
              "0        163      200  145.521323  ...  145.275028        156      156   \n",
              "1        163      126  146.694511  ...  148.303098        156      121   \n",
              "\n",
              "      mean_O1  median_O1  mode_O1     mean_O2  median_O2  mode_O2  ADHD  \n",
              "0  145.363255        156      121  144.913031        156      121     0  \n",
              "1  148.696902        156      121  149.177656        156      121     0  \n",
              "\n",
              "[2 rows x 58 columns]"
            ],
            "text/html": [
              "\n",
              "  <div id=\"df-64cb1a2d-7548-464a-94ce-c1b4a2611796\" class=\"colab-df-container\">\n",
              "    <div>\n",
              "<style scoped>\n",
              "    .dataframe tbody tr th:only-of-type {\n",
              "        vertical-align: middle;\n",
              "    }\n",
              "\n",
              "    .dataframe tbody tr th {\n",
              "        vertical-align: top;\n",
              "    }\n",
              "\n",
              "    .dataframe thead th {\n",
              "        text-align: right;\n",
              "    }\n",
              "</style>\n",
              "<table border=\"1\" class=\"dataframe\">\n",
              "  <thead>\n",
              "    <tr style=\"text-align: right;\">\n",
              "      <th></th>\n",
              "      <th>mean_FZ</th>\n",
              "      <th>median_FZ</th>\n",
              "      <th>mode_FZ</th>\n",
              "      <th>mean_CZ</th>\n",
              "      <th>median_CZ</th>\n",
              "      <th>mode_CZ</th>\n",
              "      <th>mean_PZ</th>\n",
              "      <th>median_PZ</th>\n",
              "      <th>mode_PZ</th>\n",
              "      <th>mean_C3</th>\n",
              "      <th>...</th>\n",
              "      <th>mean_T6</th>\n",
              "      <th>media_T6n</th>\n",
              "      <th>mode_T6</th>\n",
              "      <th>mean_O1</th>\n",
              "      <th>median_O1</th>\n",
              "      <th>mode_O1</th>\n",
              "      <th>mean_O2</th>\n",
              "      <th>median_O2</th>\n",
              "      <th>mode_O2</th>\n",
              "      <th>ADHD</th>\n",
              "    </tr>\n",
              "  </thead>\n",
              "  <tbody>\n",
              "    <tr>\n",
              "      <th>0</th>\n",
              "      <td>146.172399</td>\n",
              "      <td>156</td>\n",
              "      <td>191</td>\n",
              "      <td>146.371924</td>\n",
              "      <td>156</td>\n",
              "      <td>156</td>\n",
              "      <td>151.967072</td>\n",
              "      <td>163</td>\n",
              "      <td>200</td>\n",
              "      <td>145.521323</td>\n",
              "      <td>...</td>\n",
              "      <td>145.275028</td>\n",
              "      <td>156</td>\n",
              "      <td>156</td>\n",
              "      <td>145.363255</td>\n",
              "      <td>156</td>\n",
              "      <td>121</td>\n",
              "      <td>144.913031</td>\n",
              "      <td>156</td>\n",
              "      <td>121</td>\n",
              "      <td>0</td>\n",
              "    </tr>\n",
              "    <tr>\n",
              "      <th>1</th>\n",
              "      <td>146.459059</td>\n",
              "      <td>121</td>\n",
              "      <td>121</td>\n",
              "      <td>145.589454</td>\n",
              "      <td>121</td>\n",
              "      <td>121</td>\n",
              "      <td>153.285787</td>\n",
              "      <td>163</td>\n",
              "      <td>126</td>\n",
              "      <td>146.694511</td>\n",
              "      <td>...</td>\n",
              "      <td>148.303098</td>\n",
              "      <td>156</td>\n",
              "      <td>121</td>\n",
              "      <td>148.696902</td>\n",
              "      <td>156</td>\n",
              "      <td>121</td>\n",
              "      <td>149.177656</td>\n",
              "      <td>156</td>\n",
              "      <td>121</td>\n",
              "      <td>0</td>\n",
              "    </tr>\n",
              "  </tbody>\n",
              "</table>\n",
              "<p>2 rows × 58 columns</p>\n",
              "</div>\n",
              "    <div class=\"colab-df-buttons\">\n",
              "\n",
              "  <div class=\"colab-df-container\">\n",
              "    <button class=\"colab-df-convert\" onclick=\"convertToInteractive('df-64cb1a2d-7548-464a-94ce-c1b4a2611796')\"\n",
              "            title=\"Convert this dataframe to an interactive table.\"\n",
              "            style=\"display:none;\">\n",
              "\n",
              "  <svg xmlns=\"http://www.w3.org/2000/svg\" height=\"24px\" viewBox=\"0 -960 960 960\">\n",
              "    <path d=\"M120-120v-720h720v720H120Zm60-500h600v-160H180v160Zm220 220h160v-160H400v160Zm0 220h160v-160H400v160ZM180-400h160v-160H180v160Zm440 0h160v-160H620v160ZM180-180h160v-160H180v160Zm440 0h160v-160H620v160Z\"/>\n",
              "  </svg>\n",
              "    </button>\n",
              "\n",
              "  <style>\n",
              "    .colab-df-container {\n",
              "      display:flex;\n",
              "      gap: 12px;\n",
              "    }\n",
              "\n",
              "    .colab-df-convert {\n",
              "      background-color: #E8F0FE;\n",
              "      border: none;\n",
              "      border-radius: 50%;\n",
              "      cursor: pointer;\n",
              "      display: none;\n",
              "      fill: #1967D2;\n",
              "      height: 32px;\n",
              "      padding: 0 0 0 0;\n",
              "      width: 32px;\n",
              "    }\n",
              "\n",
              "    .colab-df-convert:hover {\n",
              "      background-color: #E2EBFA;\n",
              "      box-shadow: 0px 1px 2px rgba(60, 64, 67, 0.3), 0px 1px 3px 1px rgba(60, 64, 67, 0.15);\n",
              "      fill: #174EA6;\n",
              "    }\n",
              "\n",
              "    .colab-df-buttons div {\n",
              "      margin-bottom: 4px;\n",
              "    }\n",
              "\n",
              "    [theme=dark] .colab-df-convert {\n",
              "      background-color: #3B4455;\n",
              "      fill: #D2E3FC;\n",
              "    }\n",
              "\n",
              "    [theme=dark] .colab-df-convert:hover {\n",
              "      background-color: #434B5C;\n",
              "      box-shadow: 0px 1px 3px 1px rgba(0, 0, 0, 0.15);\n",
              "      filter: drop-shadow(0px 1px 2px rgba(0, 0, 0, 0.3));\n",
              "      fill: #FFFFFF;\n",
              "    }\n",
              "  </style>\n",
              "\n",
              "    <script>\n",
              "      const buttonEl =\n",
              "        document.querySelector('#df-64cb1a2d-7548-464a-94ce-c1b4a2611796 button.colab-df-convert');\n",
              "      buttonEl.style.display =\n",
              "        google.colab.kernel.accessAllowed ? 'block' : 'none';\n",
              "\n",
              "      async function convertToInteractive(key) {\n",
              "        const element = document.querySelector('#df-64cb1a2d-7548-464a-94ce-c1b4a2611796');\n",
              "        const dataTable =\n",
              "          await google.colab.kernel.invokeFunction('convertToInteractive',\n",
              "                                                    [key], {});\n",
              "        if (!dataTable) return;\n",
              "\n",
              "        const docLinkHtml = 'Like what you see? Visit the ' +\n",
              "          '<a target=\"_blank\" href=https://colab.research.google.com/notebooks/data_table.ipynb>data table notebook</a>'\n",
              "          + ' to learn more about interactive tables.';\n",
              "        element.innerHTML = '';\n",
              "        dataTable['output_type'] = 'display_data';\n",
              "        await google.colab.output.renderOutput(dataTable, element);\n",
              "        const docLink = document.createElement('div');\n",
              "        docLink.innerHTML = docLinkHtml;\n",
              "        element.appendChild(docLink);\n",
              "      }\n",
              "    </script>\n",
              "  </div>\n",
              "\n",
              "\n",
              "<div id=\"df-f5385514-1e05-46a2-824c-3274c74c33e7\">\n",
              "  <button class=\"colab-df-quickchart\" onclick=\"quickchart('df-f5385514-1e05-46a2-824c-3274c74c33e7')\"\n",
              "            title=\"Suggest charts\"\n",
              "            style=\"display:none;\">\n",
              "\n",
              "<svg xmlns=\"http://www.w3.org/2000/svg\" height=\"24px\"viewBox=\"0 0 24 24\"\n",
              "     width=\"24px\">\n",
              "    <g>\n",
              "        <path d=\"M19 3H5c-1.1 0-2 .9-2 2v14c0 1.1.9 2 2 2h14c1.1 0 2-.9 2-2V5c0-1.1-.9-2-2-2zM9 17H7v-7h2v7zm4 0h-2V7h2v10zm4 0h-2v-4h2v4z\"/>\n",
              "    </g>\n",
              "</svg>\n",
              "  </button>\n",
              "\n",
              "<style>\n",
              "  .colab-df-quickchart {\n",
              "      --bg-color: #E8F0FE;\n",
              "      --fill-color: #1967D2;\n",
              "      --hover-bg-color: #E2EBFA;\n",
              "      --hover-fill-color: #174EA6;\n",
              "      --disabled-fill-color: #AAA;\n",
              "      --disabled-bg-color: #DDD;\n",
              "  }\n",
              "\n",
              "  [theme=dark] .colab-df-quickchart {\n",
              "      --bg-color: #3B4455;\n",
              "      --fill-color: #D2E3FC;\n",
              "      --hover-bg-color: #434B5C;\n",
              "      --hover-fill-color: #FFFFFF;\n",
              "      --disabled-bg-color: #3B4455;\n",
              "      --disabled-fill-color: #666;\n",
              "  }\n",
              "\n",
              "  .colab-df-quickchart {\n",
              "    background-color: var(--bg-color);\n",
              "    border: none;\n",
              "    border-radius: 50%;\n",
              "    cursor: pointer;\n",
              "    display: none;\n",
              "    fill: var(--fill-color);\n",
              "    height: 32px;\n",
              "    padding: 0;\n",
              "    width: 32px;\n",
              "  }\n",
              "\n",
              "  .colab-df-quickchart:hover {\n",
              "    background-color: var(--hover-bg-color);\n",
              "    box-shadow: 0 1px 2px rgba(60, 64, 67, 0.3), 0 1px 3px 1px rgba(60, 64, 67, 0.15);\n",
              "    fill: var(--button-hover-fill-color);\n",
              "  }\n",
              "\n",
              "  .colab-df-quickchart-complete:disabled,\n",
              "  .colab-df-quickchart-complete:disabled:hover {\n",
              "    background-color: var(--disabled-bg-color);\n",
              "    fill: var(--disabled-fill-color);\n",
              "    box-shadow: none;\n",
              "  }\n",
              "\n",
              "  .colab-df-spinner {\n",
              "    border: 2px solid var(--fill-color);\n",
              "    border-color: transparent;\n",
              "    border-bottom-color: var(--fill-color);\n",
              "    animation:\n",
              "      spin 1s steps(1) infinite;\n",
              "  }\n",
              "\n",
              "  @keyframes spin {\n",
              "    0% {\n",
              "      border-color: transparent;\n",
              "      border-bottom-color: var(--fill-color);\n",
              "      border-left-color: var(--fill-color);\n",
              "    }\n",
              "    20% {\n",
              "      border-color: transparent;\n",
              "      border-left-color: var(--fill-color);\n",
              "      border-top-color: var(--fill-color);\n",
              "    }\n",
              "    30% {\n",
              "      border-color: transparent;\n",
              "      border-left-color: var(--fill-color);\n",
              "      border-top-color: var(--fill-color);\n",
              "      border-right-color: var(--fill-color);\n",
              "    }\n",
              "    40% {\n",
              "      border-color: transparent;\n",
              "      border-right-color: var(--fill-color);\n",
              "      border-top-color: var(--fill-color);\n",
              "    }\n",
              "    60% {\n",
              "      border-color: transparent;\n",
              "      border-right-color: var(--fill-color);\n",
              "    }\n",
              "    80% {\n",
              "      border-color: transparent;\n",
              "      border-right-color: var(--fill-color);\n",
              "      border-bottom-color: var(--fill-color);\n",
              "    }\n",
              "    90% {\n",
              "      border-color: transparent;\n",
              "      border-bottom-color: var(--fill-color);\n",
              "    }\n",
              "  }\n",
              "</style>\n",
              "\n",
              "  <script>\n",
              "    async function quickchart(key) {\n",
              "      const quickchartButtonEl =\n",
              "        document.querySelector('#' + key + ' button');\n",
              "      quickchartButtonEl.disabled = true;  // To prevent multiple clicks.\n",
              "      quickchartButtonEl.classList.add('colab-df-spinner');\n",
              "      try {\n",
              "        const charts = await google.colab.kernel.invokeFunction(\n",
              "            'suggestCharts', [key], {});\n",
              "      } catch (error) {\n",
              "        console.error('Error during call to suggestCharts:', error);\n",
              "      }\n",
              "      quickchartButtonEl.classList.remove('colab-df-spinner');\n",
              "      quickchartButtonEl.classList.add('colab-df-quickchart-complete');\n",
              "    }\n",
              "    (() => {\n",
              "      let quickchartButtonEl =\n",
              "        document.querySelector('#df-f5385514-1e05-46a2-824c-3274c74c33e7 button');\n",
              "      quickchartButtonEl.style.display =\n",
              "        google.colab.kernel.accessAllowed ? 'block' : 'none';\n",
              "    })();\n",
              "  </script>\n",
              "</div>\n",
              "\n",
              "    </div>\n",
              "  </div>\n"
            ],
            "application/vnd.google.colaboratory.intrinsic+json": {
              "type": "dataframe",
              "variable_name": "data"
            }
          },
          "metadata": {},
          "execution_count": 80
        }
      ]
    },
    {
      "cell_type": "code",
      "source": [
        "data.info()"
      ],
      "metadata": {
        "colab": {
          "base_uri": "https://localhost:8080/"
        },
        "id": "risAfbCCEG4J",
        "outputId": "760a1d30-2b19-4fde-aab4-0942b0c24b59"
      },
      "execution_count": 81,
      "outputs": [
        {
          "output_type": "stream",
          "name": "stdout",
          "text": [
            "<class 'pandas.core.frame.DataFrame'>\n",
            "RangeIndex: 121 entries, 0 to 120\n",
            "Data columns (total 58 columns):\n",
            " #   Column      Non-Null Count  Dtype  \n",
            "---  ------      --------------  -----  \n",
            " 0   mean_FZ     121 non-null    float64\n",
            " 1   median_FZ   121 non-null    int64  \n",
            " 2   mode_FZ     121 non-null    int64  \n",
            " 3   mean_CZ     121 non-null    float64\n",
            " 4   median_CZ   121 non-null    int64  \n",
            " 5   mode_CZ     121 non-null    int64  \n",
            " 6   mean_PZ     121 non-null    float64\n",
            " 7   median_PZ   121 non-null    int64  \n",
            " 8   mode_PZ     121 non-null    int64  \n",
            " 9   mean_C3     121 non-null    float64\n",
            " 10  median_C3   121 non-null    int64  \n",
            " 11  mode_C3     121 non-null    int64  \n",
            " 12  mean_T3     121 non-null    float64\n",
            " 13  median_T3   121 non-null    float64\n",
            " 14  mode_T3     121 non-null    int64  \n",
            " 15  mean_C4     121 non-null    float64\n",
            " 16  median_C4   121 non-null    int64  \n",
            " 17  mode_C4     121 non-null    int64  \n",
            " 18  mean_T4     121 non-null    float64\n",
            " 19  median_T4   121 non-null    float64\n",
            " 20  mode_T4     121 non-null    int64  \n",
            " 21  mean_FP1    121 non-null    float64\n",
            " 22  median_FP1  121 non-null    float64\n",
            " 23  mode_FP1    121 non-null    int64  \n",
            " 24  mean_FP2    121 non-null    float64\n",
            " 25  median_FP2  121 non-null    int64  \n",
            " 26  mode_FP3    121 non-null    int64  \n",
            " 27  mean_F3     121 non-null    float64\n",
            " 28  median_F3   121 non-null    int64  \n",
            " 29  mode_F3     121 non-null    int64  \n",
            " 30  mean_F4     121 non-null    float64\n",
            " 31  median_F4   121 non-null    float64\n",
            " 32  mode_F4     121 non-null    int64  \n",
            " 33  mean_F7     121 non-null    float64\n",
            " 34  median_F7   121 non-null    int64  \n",
            " 35  mode_F7     121 non-null    int64  \n",
            " 36  mean_F8     121 non-null    float64\n",
            " 37  median_F8   121 non-null    float64\n",
            " 38  mode_F8     121 non-null    int64  \n",
            " 39  mean_P3     121 non-null    float64\n",
            " 40  median_P3   121 non-null    int64  \n",
            " 41  mode_3      121 non-null    int64  \n",
            " 42  mean_P4     121 non-null    float64\n",
            " 43  median_P4   121 non-null    int64  \n",
            " 44  mode_P4     121 non-null    int64  \n",
            " 45  mean_T5     121 non-null    float64\n",
            " 46  median_T5   121 non-null    int64  \n",
            " 47  mode_T5     121 non-null    int64  \n",
            " 48  mean_T6     121 non-null    float64\n",
            " 49  media_T6n   121 non-null    int64  \n",
            " 50  mode_T6     121 non-null    int64  \n",
            " 51  mean_O1     121 non-null    float64\n",
            " 52  median_O1   121 non-null    int64  \n",
            " 53  mode_O1     121 non-null    int64  \n",
            " 54  mean_O2     121 non-null    float64\n",
            " 55  median_O2   121 non-null    int64  \n",
            " 56  mode_O2     121 non-null    int64  \n",
            " 57  ADHD        121 non-null    int64  \n",
            "dtypes: float64(24), int64(34)\n",
            "memory usage: 55.0 KB\n"
          ]
        }
      ]
    },
    {
      "cell_type": "code",
      "source": [
        "# filling numeric data inn age and fare columns\n",
        "#mean_age=data.age.mean()\n",
        "#mean_fare=data.fare.mean()\n",
        "#print(mean_age,mean_fare)\n",
        "#data.age.fillna(mean_age,inplace=True)\n",
        "#data.fare.fillna(mean_fare,inplace=True)"
      ],
      "metadata": {
        "id": "LNyufu5_EQoc"
      },
      "execution_count": 82,
      "outputs": []
    },
    {
      "cell_type": "code",
      "source": [
        "#data.info()"
      ],
      "metadata": {
        "id": "2ZYVYxU5Ez0Z"
      },
      "execution_count": 83,
      "outputs": []
    },
    {
      "cell_type": "code",
      "source": [
        "# encoding for categorical data\n",
        "#data1=pd.get_dummies(data)\n",
        "#data1.head()"
      ],
      "metadata": {
        "id": "3Q6fvsPnFPCk"
      },
      "execution_count": 84,
      "outputs": []
    },
    {
      "cell_type": "code",
      "source": [
        "# Step 2: input and output/ split data\n",
        "X=data.drop([\"ADHD\"],axis=1)\n",
        "Y=data.ADHD\n",
        "print(X.head())\n",
        "print(Y.head())\n"
      ],
      "metadata": {
        "colab": {
          "base_uri": "https://localhost:8080/"
        },
        "id": "T66SuxTpILXr",
        "outputId": "a692d4f0-c6ba-46bd-ae0f-b52ea24aca0c"
      },
      "execution_count": 85,
      "outputs": [
        {
          "output_type": "stream",
          "name": "stdout",
          "text": [
            "      mean_FZ  median_FZ  mode_FZ     mean_CZ  median_CZ  mode_CZ     mean_PZ  \\\n",
            "0  146.172399        156      191  146.371924        156      156  151.967072   \n",
            "1  146.459059        121      121  145.589454        121      121  153.285787   \n",
            "2  146.459059        121      121  145.589454        121      121  153.285787   \n",
            "3  140.233053        121      121  140.678558        121      121  146.490151   \n",
            "4  136.522379        121      121  136.465369        121      121  142.764696   \n",
            "\n",
            "   median_PZ  mode_PZ     mean_C3  ...  mode_T5     mean_T6  media_T6n  \\\n",
            "0        163      200  145.521323  ...      163  145.275028        156   \n",
            "1        163      126  146.694511  ...      126  148.303098        156   \n",
            "2        163      126  146.694511  ...      126  148.303098        156   \n",
            "3        126      126  140.451910  ...      163  140.546726        121   \n",
            "4        126      126  136.499526  ...      126  135.587558        121   \n",
            "\n",
            "   mode_T6     mean_O1  median_O1  mode_O1     mean_O2  median_O2  mode_O2  \n",
            "0      156  145.363255        156      121  144.913031        156      121  \n",
            "1      121  148.696902        156      121  149.177656        156      121  \n",
            "2      121  148.696902        156      121  149.177656        156      121  \n",
            "3      121  140.539767        156      156  140.576413        156      121  \n",
            "4      121  135.993400        121      121  135.711852        121      121  \n",
            "\n",
            "[5 rows x 57 columns]\n",
            "0    0\n",
            "1    0\n",
            "2    0\n",
            "3    0\n",
            "4    0\n",
            "Name: ADHD, dtype: int64\n"
          ]
        }
      ]
    },
    {
      "cell_type": "code",
      "source": [
        "from sklearn.model_selection import train_test_split\n",
        "X_train,X_test,Y_train,Y_test=train_test_split(X,Y,test_size=0.25,random_state=12)"
      ],
      "metadata": {
        "id": "KMUwY1hOJSNm"
      },
      "execution_count": 93,
      "outputs": []
    },
    {
      "cell_type": "code",
      "source": [
        "# Modeling by Logistic\n",
        "from sklearn.linear_model import LogisticRegression\n",
        "eqn=LogisticRegression()\n",
        "eqn.fit(X_train,Y_train)\n",
        "Ytrain_pred_log=eqn.predict(X_train)\n",
        "Ytest_pred_log=eqn.predict(X_test)\n",
        "print(Ytrain_pred_log)\n",
        "print(Ytest_pred_log)\n",
        "from sklearn.metrics import accuracy_score\n",
        "print(\"training accuracy:\", accuracy_score(Y_train,Ytrain_pred_log))\n",
        "print(\"Testing accuracy:\",accuracy_score(Y_test,Ytest_pred_log))\n",
        "print(X_train)\n",
        "print(Y_train)"
      ],
      "metadata": {
        "colab": {
          "base_uri": "https://localhost:8080/"
        },
        "id": "7GoeOtwwKMeO",
        "outputId": "3803019f-3637-431a-a739-c9b708b84f0c"
      },
      "execution_count": 98,
      "outputs": [
        {
          "output_type": "stream",
          "name": "stdout",
          "text": [
            "[1 0 0 1 0 0 0 1 0 0 1 1 1 1 1 1 1 0 0 0 1 1 1 1 0 0 0 0 1 0 1 0 1 1 1 0 0\n",
            " 0 1 0 1 0 0 1 1 0 0 1 1 0 1 0 1 0 1 1 0 1 0 1 0 1 0 0 1 1 0 1 1 1 1 1 1 1\n",
            " 0 1 0 0 0 0 0 0 1 1 0 0 1 0 0 1]\n",
            "[0 0 0 1 0 0 0 0 0 0 0 1 1 1 1 0 1 1 0 0 1 0 0 1 0 1 0 1 0 0 0]\n",
            "training accuracy: 0.8888888888888888\n",
            "Testing accuracy: 0.5806451612903226\n",
            "        mean_FZ  median_FZ  mode_FZ     mean_CZ  median_CZ  mode_CZ  \\\n",
            "78   139.865804        121     -125  140.130118        121       15   \n",
            "101  136.502595        156      156  137.565061        156      121   \n",
            "23   141.545191        156      156  141.762399        156      156   \n",
            "115  128.652430        121      543  128.384143        121      -90   \n",
            "16   139.674276        121      121  140.351535        156      156   \n",
            "..          ...        ...      ...         ...        ...      ...   \n",
            "2    146.459059        121      121  145.589454        121      121   \n",
            "113  125.158806        121     -125  124.844701        121      -19   \n",
            "6    138.388227        121      156  137.527894        121      121   \n",
            "27   136.047937        121      121  136.240911        121      121   \n",
            "75   140.117872        156       15  138.683505        121      121   \n",
            "\n",
            "        mean_PZ  median_PZ  mode_PZ     mean_C3  ...  mode_T5     mean_T6  \\\n",
            "78   145.978510        163      -20  140.082118  ...      163  141.052784   \n",
            "101  143.070465        163      163  137.207242  ...      126  139.817854   \n",
            "23   148.184023        163      126  141.921866  ...      126  142.422952   \n",
            "115  134.117782        126     -131  127.993705  ...     -131  128.133649   \n",
            "16   146.165868        163      163  139.490565  ...      126  139.910980   \n",
            "..          ...        ...      ...         ...  ...      ...         ...   \n",
            "2    153.285787        163      126  146.694511  ...      126  148.303098   \n",
            "113  131.676418        126      126  126.415373  ...      126  125.101567   \n",
            "6    144.533812        126      163  137.661248  ...      163  137.413714   \n",
            "27   142.095610        126      126  136.481091  ...      126  137.015443   \n",
            "75   148.399732        163       16  141.748852  ...      200  141.524684   \n",
            "\n",
            "     media_T6n  mode_T6     mean_O1  median_O1  mode_O1     mean_O2  \\\n",
            "78         156      191  141.202588        156      121  140.916784   \n",
            "101        156      156  139.775783        156       85  139.226598   \n",
            "23         156      156  142.288403        156       85  142.421866   \n",
            "115        121    -1040  128.254032        121      121  128.390022   \n",
            "16         156      156  139.629840        121      121  139.957421   \n",
            "..         ...      ...         ...        ...      ...         ...   \n",
            "2          156      121  148.696902        156      121  149.177656   \n",
            "113        121      895  126.042537        121      367  125.625448   \n",
            "6          121      156  137.429417        121      121  137.564744   \n",
            "27         121      121  136.964874        121      156  137.222895   \n",
            "75         156      156  140.731917        156       15  140.889495   \n",
            "\n",
            "     median_O2  mode_O2  \n",
            "78         156      156  \n",
            "101        156      156  \n",
            "23         156      121  \n",
            "115        121      508  \n",
            "16         156      156  \n",
            "..         ...      ...  \n",
            "2          156      121  \n",
            "113        121     -301  \n",
            "6          121      121  \n",
            "27         121      121  \n",
            "75         156      226  \n",
            "\n",
            "[90 rows x 57 columns]\n",
            "78     1\n",
            "101    1\n",
            "23     0\n",
            "115    1\n",
            "16     0\n",
            "      ..\n",
            "2      0\n",
            "113    1\n",
            "6      0\n",
            "27     0\n",
            "75     1\n",
            "Name: ADHD, Length: 90, dtype: int64\n"
          ]
        }
      ]
    },
    {
      "cell_type": "code",
      "source": [
        "# Decision tree classifier without gridsearchCV\n",
        "from sklearn.tree import DecisionTreeClassifier\n",
        "dtc = DecisionTreeClassifier()\n",
        "dtc.fit(X_train,Y_train)\n",
        "ytest_pred_dt=dtc.predict(X_test)\n",
        "ytrain_pred_dt=dtc.predict(X_train)\n",
        "print(ytest_pred_dt)\n",
        "print(ytrain_pred_dt)\n",
        "print(\"Train Accuracy:\",accuracy_score(Y_train,ytrain_pred_dt))\n",
        "print(\"Test Accuracy:\",accuracy_score(Y_test,ytest_pred_dt))"
      ],
      "metadata": {
        "colab": {
          "base_uri": "https://localhost:8080/"
        },
        "id": "vUeEFk_Cieyg",
        "outputId": "5c85c043-c4eb-4237-8238-073186a4619a"
      },
      "execution_count": 95,
      "outputs": [
        {
          "output_type": "stream",
          "name": "stdout",
          "text": [
            "[0 1 0 1 1 1 0 0 0 0 0 0 0 1 1 1 0 1 0 1 0 0 1 0 0 0 1 1 1 1 1]\n",
            "[1 1 0 1 0 0 1 1 0 0 1 1 1 1 1 1 1 1 0 0 1 1 1 0 1 0 0 0 1 0 1 0 0 0 1 0 0\n",
            " 0 1 0 1 0 0 1 1 0 0 0 1 0 1 0 1 0 1 1 1 1 0 1 0 1 0 0 1 1 0 1 1 1 1 0 1 1\n",
            " 0 1 0 0 0 0 0 0 1 1 0 0 1 0 0 1]\n",
            "Train Accuracy: 1.0\n",
            "Test Accuracy: 0.7741935483870968\n"
          ]
        }
      ]
    },
    {
      "cell_type": "code",
      "source": [
        "# Decision tree classifier with gridsearchCV\n",
        "from sklearn.tree import DecisionTreeClassifier\n",
        "dtc_gs = DecisionTreeClassifier()\n",
        "param_dist_dtc={\"criterion\":[\"gini\",\"entropy\"],\"max_depth\":[1,2,3,4,5,6,7,8]}\n",
        "from sklearn.model_selection import GridSearchCV\n",
        "grid_dtc=GridSearchCV(dtc,param_grid=param_dist_dtc,cv=10,n_jobs=-1)\n",
        "grid_dtc.fit(X_train,Y_train)\n",
        "grid_dtc.best_params_\n",
        "ytest_pred_dtcGS=grid_dtc.predict(X_test)\n",
        "ytrain_pred_dtcGS=grid_dtc.predict(X_train)\n",
        "print(ytest_pred_dtcGS)\n",
        "print(ytrain_pred_dtcGS)\n",
        "print(\"Train Accuracy:\",accuracy_score(Y_train,ytrain_pred_dtcGS))\n",
        "print(\"Test Accuracy:\",accuracy_score(Y_test,ytest_pred_dtcGS))\n"
      ],
      "metadata": {
        "colab": {
          "base_uri": "https://localhost:8080/"
        },
        "id": "ZIM-_MCIjvlK",
        "outputId": "654e99ae-4160-4e35-8760-7dcd65975b33"
      },
      "execution_count": 96,
      "outputs": [
        {
          "output_type": "stream",
          "name": "stdout",
          "text": [
            "[0 1 0 1 1 1 0 0 0 0 0 0 0 1 1 1 0 1 0 1 0 0 1 0 0 0 1 1 1 1 1]\n",
            "[1 0 0 1 0 0 1 1 0 0 1 1 1 1 1 1 1 1 0 0 1 1 1 0 1 0 0 0 1 0 1 0 0 0 1 0 0\n",
            " 0 1 0 1 0 0 1 1 0 0 0 1 0 1 0 0 0 1 1 1 1 0 1 0 1 0 0 1 1 0 1 1 1 1 0 1 1\n",
            " 0 0 0 0 0 0 0 0 1 1 0 0 1 0 0 1]\n",
            "Train Accuracy: 0.9666666666666667\n",
            "Test Accuracy: 0.7741935483870968\n"
          ]
        }
      ]
    },
    {
      "cell_type": "code",
      "source": [
        "# Random forest classifier witout GridSearchCV\n",
        "from sklearn.ensemble import RandomForestClassifier\n",
        "rfc=RandomForestClassifier()\n",
        "rfc.fit(X_train,Y_train)\n",
        "Ytrain_pred_rfc=rfc.predict(X_train)\n",
        "Ytest_pred_rfc=rfc.predict(X_test)\n",
        "print(Ytrain_pred_rfc)\n",
        "print(Ytest_pred_rfc)\n",
        "print(\"Train Accuracy:\", accuracy_score(Y_train,Ytrain_pred_rfc))\n",
        "print(\"Test Accuracy:\",accuracy_score(Y_test,Ytest_pred_rfc))"
      ],
      "metadata": {
        "colab": {
          "base_uri": "https://localhost:8080/"
        },
        "id": "jgrzQJcFRCpL",
        "outputId": "3848e806-6e7c-4cc9-e736-9d780993610e"
      },
      "execution_count": 90,
      "outputs": [
        {
          "output_type": "stream",
          "name": "stdout",
          "text": [
            "[0 0 1 0 1 1 1 0 0 1 0 1 1 1 0 0 0 1 0 1 1 0 1 0 1 0 0 0 0 0 0 1 1 1 0 0 0\n",
            " 1 1 1 0 0 0 1 0 1 0 0 0 1 0 0 0 0 1 1 1 1 1 0 0 1 1 1 0 1 0 1 0 1 0 0 0 1\n",
            " 1 0 1 0 0 0 1 0 0 1 1 0 1 1 1 0 1 0 1 1 1 1]\n",
            "[1 0 0 0 0 0 0 1 0 0 1 0 1 1 0 0 1 1 0 1 1 0 1 1 0]\n",
            "Train Accuracy: 1.0\n",
            "Test Accuracy: 0.76\n"
          ]
        }
      ]
    },
    {
      "cell_type": "code",
      "source": [
        "# RandomForestClassifier with GridSearchCV\n",
        "from sklearn.ensemble import RandomForestClassifier\n",
        "rfc_gs=RandomForestClassifier()\n",
        "param_dist_rfc={\"max_depth\":[3,5,6],\"n_estimators\":[100,150,200,250],\"criterion\":[\"gini\",\"entropy\"]}# tuning parameters\n",
        "print(\"Tuning Parameters:\", param_dist_rfc)\n",
        "from sklearn.model_selection import GridSearchCV\n",
        "grid_rfc=GridSearchCV(rfc_gs,param_dist_rfc,cv=5,n_jobs=-1)\n",
        "grid_rfc.fit(X_train,Y_train)\n",
        "Ytrain_pred_rfc_gs=rfc.predict(X_train)\n",
        "Ytest_pred_rfc_gs=rfc.predict(X_test)\n",
        "print(\"training accuracy:\",accuracy_score(Y_train,Ytrain_pred_rfc_gs))\n",
        "print(\"testing accuracy:\",accuracy_score(Y_test,Ytest_pred_rfc_gs))"
      ],
      "metadata": {
        "colab": {
          "base_uri": "https://localhost:8080/"
        },
        "id": "_fawiaVbSNZi",
        "outputId": "95280b2f-ceb9-4a33-d81f-d84631857f41"
      },
      "execution_count": 99,
      "outputs": [
        {
          "output_type": "stream",
          "name": "stdout",
          "text": [
            "Tuning Parameters: {'max_depth': [3, 5, 6], 'n_estimators': [100, 150, 200, 250], 'criterion': ['gini', 'entropy']}\n",
            "training accuracy: 0.9444444444444444\n",
            "testing accuracy: 0.967741935483871\n"
          ]
        }
      ]
    },
    {
      "cell_type": "code",
      "source": [
        "grid_rfc.best_params_"
      ],
      "metadata": {
        "colab": {
          "base_uri": "https://localhost:8080/"
        },
        "id": "0sVOBSjvckjk",
        "outputId": "45c6bee4-5746-4368-ec4f-15124ce1dbda"
      },
      "execution_count": 100,
      "outputs": [
        {
          "output_type": "execute_result",
          "data": {
            "text/plain": [
              "{'criterion': 'entropy', 'max_depth': 6, 'n_estimators': 100}"
            ]
          },
          "metadata": {},
          "execution_count": 100
        }
      ]
    },
    {
      "cell_type": "code",
      "source": [],
      "metadata": {
        "id": "5Mpa_ln6lUYx"
      },
      "execution_count": null,
      "outputs": []
    }
  ]
}